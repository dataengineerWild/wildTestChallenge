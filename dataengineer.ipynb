{
  "cells": [
    {
      "cell_type": "markdown",
      "metadata": {
        "id": "view-in-github",
        "colab_type": "text"
      },
      "source": [
        "<a href=\"https://colab.research.google.com/github/dataengineerWild/wildTestChallenge/blob/main/dataengineer.ipynb\" target=\"_parent\"><img src=\"https://colab.research.google.com/assets/colab-badge.svg\" alt=\"Open In Colab\"/></a>"
      ]
    },
    {
      "cell_type": "markdown",
      "metadata": {
        "id": "_NTInOBz187z"
      },
      "source": []
    },
    {
      "cell_type": "code",
      "execution_count": 1,
      "metadata": {
        "id": "VhzZn2ASpOd5"
      },
      "outputs": [],
      "source": [
        "link = '/content/drive/MyDrive/dataengineer/adress.csv'"
      ]
    },
    {
      "cell_type": "code",
      "execution_count": 2,
      "metadata": {
        "colab": {
          "base_uri": "https://localhost:8080/",
          "height": 206
        },
        "id": "jGSzI7cnpgZF",
        "outputId": "712bd367-f80b-40e1-9fe4-b82edcbc7fad"
      },
      "outputs": [
        {
          "output_type": "execute_result",
          "data": {
            "text/plain": [
              "   address_id                  address           city  postal_code\n",
              "0           1     318 CHE DE ROUMAGOUA      LA CIOTAT        13600\n",
              "1           2         19 RUE DES DAMES  SAINTE SAVINE        10300\n",
              "2           3  22 RUE AMIRAL GUEPRATTE     LE CONQUET        29217\n",
              "3           4          6 BD DES ETINES      LE COTEAU        42120\n",
              "4           5      35 AV DU 159EME RIA       BRIANCON         5100"
            ],
            "text/html": [
              "\n",
              "  <div id=\"df-77c93ce2-9d44-4767-8498-124a876ae18c\">\n",
              "    <div class=\"colab-df-container\">\n",
              "      <div>\n",
              "<style scoped>\n",
              "    .dataframe tbody tr th:only-of-type {\n",
              "        vertical-align: middle;\n",
              "    }\n",
              "\n",
              "    .dataframe tbody tr th {\n",
              "        vertical-align: top;\n",
              "    }\n",
              "\n",
              "    .dataframe thead th {\n",
              "        text-align: right;\n",
              "    }\n",
              "</style>\n",
              "<table border=\"1\" class=\"dataframe\">\n",
              "  <thead>\n",
              "    <tr style=\"text-align: right;\">\n",
              "      <th></th>\n",
              "      <th>address_id</th>\n",
              "      <th>address</th>\n",
              "      <th>city</th>\n",
              "      <th>postal_code</th>\n",
              "    </tr>\n",
              "  </thead>\n",
              "  <tbody>\n",
              "    <tr>\n",
              "      <th>0</th>\n",
              "      <td>1</td>\n",
              "      <td>318 CHE DE ROUMAGOUA</td>\n",
              "      <td>LA CIOTAT</td>\n",
              "      <td>13600</td>\n",
              "    </tr>\n",
              "    <tr>\n",
              "      <th>1</th>\n",
              "      <td>2</td>\n",
              "      <td>19 RUE DES DAMES</td>\n",
              "      <td>SAINTE SAVINE</td>\n",
              "      <td>10300</td>\n",
              "    </tr>\n",
              "    <tr>\n",
              "      <th>2</th>\n",
              "      <td>3</td>\n",
              "      <td>22 RUE AMIRAL GUEPRATTE</td>\n",
              "      <td>LE CONQUET</td>\n",
              "      <td>29217</td>\n",
              "    </tr>\n",
              "    <tr>\n",
              "      <th>3</th>\n",
              "      <td>4</td>\n",
              "      <td>6 BD DES ETINES</td>\n",
              "      <td>LE COTEAU</td>\n",
              "      <td>42120</td>\n",
              "    </tr>\n",
              "    <tr>\n",
              "      <th>4</th>\n",
              "      <td>5</td>\n",
              "      <td>35 AV DU 159EME RIA</td>\n",
              "      <td>BRIANCON</td>\n",
              "      <td>5100</td>\n",
              "    </tr>\n",
              "  </tbody>\n",
              "</table>\n",
              "</div>\n",
              "      <button class=\"colab-df-convert\" onclick=\"convertToInteractive('df-77c93ce2-9d44-4767-8498-124a876ae18c')\"\n",
              "              title=\"Convert this dataframe to an interactive table.\"\n",
              "              style=\"display:none;\">\n",
              "        \n",
              "  <svg xmlns=\"http://www.w3.org/2000/svg\" height=\"24px\"viewBox=\"0 0 24 24\"\n",
              "       width=\"24px\">\n",
              "    <path d=\"M0 0h24v24H0V0z\" fill=\"none\"/>\n",
              "    <path d=\"M18.56 5.44l.94 2.06.94-2.06 2.06-.94-2.06-.94-.94-2.06-.94 2.06-2.06.94zm-11 1L8.5 8.5l.94-2.06 2.06-.94-2.06-.94L8.5 2.5l-.94 2.06-2.06.94zm10 10l.94 2.06.94-2.06 2.06-.94-2.06-.94-.94-2.06-.94 2.06-2.06.94z\"/><path d=\"M17.41 7.96l-1.37-1.37c-.4-.4-.92-.59-1.43-.59-.52 0-1.04.2-1.43.59L10.3 9.45l-7.72 7.72c-.78.78-.78 2.05 0 2.83L4 21.41c.39.39.9.59 1.41.59.51 0 1.02-.2 1.41-.59l7.78-7.78 2.81-2.81c.8-.78.8-2.07 0-2.86zM5.41 20L4 18.59l7.72-7.72 1.47 1.35L5.41 20z\"/>\n",
              "  </svg>\n",
              "      </button>\n",
              "      \n",
              "  <style>\n",
              "    .colab-df-container {\n",
              "      display:flex;\n",
              "      flex-wrap:wrap;\n",
              "      gap: 12px;\n",
              "    }\n",
              "\n",
              "    .colab-df-convert {\n",
              "      background-color: #E8F0FE;\n",
              "      border: none;\n",
              "      border-radius: 50%;\n",
              "      cursor: pointer;\n",
              "      display: none;\n",
              "      fill: #1967D2;\n",
              "      height: 32px;\n",
              "      padding: 0 0 0 0;\n",
              "      width: 32px;\n",
              "    }\n",
              "\n",
              "    .colab-df-convert:hover {\n",
              "      background-color: #E2EBFA;\n",
              "      box-shadow: 0px 1px 2px rgba(60, 64, 67, 0.3), 0px 1px 3px 1px rgba(60, 64, 67, 0.15);\n",
              "      fill: #174EA6;\n",
              "    }\n",
              "\n",
              "    [theme=dark] .colab-df-convert {\n",
              "      background-color: #3B4455;\n",
              "      fill: #D2E3FC;\n",
              "    }\n",
              "\n",
              "    [theme=dark] .colab-df-convert:hover {\n",
              "      background-color: #434B5C;\n",
              "      box-shadow: 0px 1px 3px 1px rgba(0, 0, 0, 0.15);\n",
              "      filter: drop-shadow(0px 1px 2px rgba(0, 0, 0, 0.3));\n",
              "      fill: #FFFFFF;\n",
              "    }\n",
              "  </style>\n",
              "\n",
              "      <script>\n",
              "        const buttonEl =\n",
              "          document.querySelector('#df-77c93ce2-9d44-4767-8498-124a876ae18c button.colab-df-convert');\n",
              "        buttonEl.style.display =\n",
              "          google.colab.kernel.accessAllowed ? 'block' : 'none';\n",
              "\n",
              "        async function convertToInteractive(key) {\n",
              "          const element = document.querySelector('#df-77c93ce2-9d44-4767-8498-124a876ae18c');\n",
              "          const dataTable =\n",
              "            await google.colab.kernel.invokeFunction('convertToInteractive',\n",
              "                                                     [key], {});\n",
              "          if (!dataTable) return;\n",
              "\n",
              "          const docLinkHtml = 'Like what you see? Visit the ' +\n",
              "            '<a target=\"_blank\" href=https://colab.research.google.com/notebooks/data_table.ipynb>data table notebook</a>'\n",
              "            + ' to learn more about interactive tables.';\n",
              "          element.innerHTML = '';\n",
              "          dataTable['output_type'] = 'display_data';\n",
              "          await google.colab.output.renderOutput(dataTable, element);\n",
              "          const docLink = document.createElement('div');\n",
              "          docLink.innerHTML = docLinkHtml;\n",
              "          element.appendChild(docLink);\n",
              "        }\n",
              "      </script>\n",
              "    </div>\n",
              "  </div>\n",
              "  "
            ]
          },
          "metadata": {},
          "execution_count": 2
        }
      ],
      "source": [
        "import pandas as pd\n",
        "import warnings\n",
        "warnings.filterwarnings(\"ignore\")\n",
        "from geopy.geocoders import Nominatim\n",
        "geocoder = Nominatim()\n",
        "\n",
        "df_adress = pd.read_csv(link)\n",
        "df_adress.head()"
      ]
    },
    {
      "cell_type": "code",
      "execution_count": 3,
      "metadata": {
        "colab": {
          "base_uri": "https://localhost:8080/"
        },
        "id": "Rga4TDaZtLbi",
        "outputId": "8e925476-1460-4ee7-f142-a3be4787df23"
      },
      "outputs": [
        {
          "output_type": "execute_result",
          "data": {
            "text/plain": [
              "address_id     0\n",
              "address        0\n",
              "city           0\n",
              "postal_code    0\n",
              "dtype: int64"
            ]
          },
          "metadata": {},
          "execution_count": 3
        }
      ],
      "source": [
        "df_adress.isnull().sum()"
      ]
    },
    {
      "cell_type": "code",
      "execution_count": 4,
      "metadata": {
        "colab": {
          "base_uri": "https://localhost:8080/"
        },
        "id": "emKJWmFQwdKk",
        "outputId": "57dc7d20-9e8c-4578-cca6-dccf92a0ad98"
      },
      "outputs": [
        {
          "output_type": "stream",
          "name": "stdout",
          "text": [
            "45.765004 4.8440199\n"
          ]
        }
      ],
      "source": [
        "location = geocoder.geocode('LYON 6EME')\n",
        "print(location.latitude, location.longitude)"
      ]
    },
    {
      "cell_type": "code",
      "execution_count": 5,
      "metadata": {
        "colab": {
          "base_uri": "https://localhost:8080/",
          "height": 206
        },
        "id": "TgwxeTBSzIRa",
        "outputId": "cf8a7f2d-2eca-49c4-ef37-142831e3801a"
      },
      "outputs": [
        {
          "output_type": "execute_result",
          "data": {
            "text/plain": [
              "   address_id                  address           city  postal_code  \\\n",
              "0           1     318 CHE DE ROUMAGOUA      LA CIOTAT        13600   \n",
              "1           2         19 RUE DES DAMES  SAINTE SAVINE        10300   \n",
              "2           3  22 RUE AMIRAL GUEPRATTE     LE CONQUET        29217   \n",
              "3           4          6 BD DES ETINES      LE COTEAU        42120   \n",
              "4           5      35 AV DU 159EME RIA       BRIANCON         5100   \n",
              "\n",
              "                          address_comp  \n",
              "0      318 CHE DE ROUMAGOUA, LA CIOTAT  \n",
              "1      19 RUE DES DAMES, SAINTE SAVINE  \n",
              "2  22 RUE AMIRAL GUEPRATTE, LE CONQUET  \n",
              "3           6 BD DES ETINES, LE COTEAU  \n",
              "4        35 AV DU 159EME RIA, BRIANCON  "
            ],
            "text/html": [
              "\n",
              "  <div id=\"df-c199ef41-83fe-403f-a428-7ec466eaa24c\">\n",
              "    <div class=\"colab-df-container\">\n",
              "      <div>\n",
              "<style scoped>\n",
              "    .dataframe tbody tr th:only-of-type {\n",
              "        vertical-align: middle;\n",
              "    }\n",
              "\n",
              "    .dataframe tbody tr th {\n",
              "        vertical-align: top;\n",
              "    }\n",
              "\n",
              "    .dataframe thead th {\n",
              "        text-align: right;\n",
              "    }\n",
              "</style>\n",
              "<table border=\"1\" class=\"dataframe\">\n",
              "  <thead>\n",
              "    <tr style=\"text-align: right;\">\n",
              "      <th></th>\n",
              "      <th>address_id</th>\n",
              "      <th>address</th>\n",
              "      <th>city</th>\n",
              "      <th>postal_code</th>\n",
              "      <th>address_comp</th>\n",
              "    </tr>\n",
              "  </thead>\n",
              "  <tbody>\n",
              "    <tr>\n",
              "      <th>0</th>\n",
              "      <td>1</td>\n",
              "      <td>318 CHE DE ROUMAGOUA</td>\n",
              "      <td>LA CIOTAT</td>\n",
              "      <td>13600</td>\n",
              "      <td>318 CHE DE ROUMAGOUA, LA CIOTAT</td>\n",
              "    </tr>\n",
              "    <tr>\n",
              "      <th>1</th>\n",
              "      <td>2</td>\n",
              "      <td>19 RUE DES DAMES</td>\n",
              "      <td>SAINTE SAVINE</td>\n",
              "      <td>10300</td>\n",
              "      <td>19 RUE DES DAMES, SAINTE SAVINE</td>\n",
              "    </tr>\n",
              "    <tr>\n",
              "      <th>2</th>\n",
              "      <td>3</td>\n",
              "      <td>22 RUE AMIRAL GUEPRATTE</td>\n",
              "      <td>LE CONQUET</td>\n",
              "      <td>29217</td>\n",
              "      <td>22 RUE AMIRAL GUEPRATTE, LE CONQUET</td>\n",
              "    </tr>\n",
              "    <tr>\n",
              "      <th>3</th>\n",
              "      <td>4</td>\n",
              "      <td>6 BD DES ETINES</td>\n",
              "      <td>LE COTEAU</td>\n",
              "      <td>42120</td>\n",
              "      <td>6 BD DES ETINES, LE COTEAU</td>\n",
              "    </tr>\n",
              "    <tr>\n",
              "      <th>4</th>\n",
              "      <td>5</td>\n",
              "      <td>35 AV DU 159EME RIA</td>\n",
              "      <td>BRIANCON</td>\n",
              "      <td>5100</td>\n",
              "      <td>35 AV DU 159EME RIA, BRIANCON</td>\n",
              "    </tr>\n",
              "  </tbody>\n",
              "</table>\n",
              "</div>\n",
              "      <button class=\"colab-df-convert\" onclick=\"convertToInteractive('df-c199ef41-83fe-403f-a428-7ec466eaa24c')\"\n",
              "              title=\"Convert this dataframe to an interactive table.\"\n",
              "              style=\"display:none;\">\n",
              "        \n",
              "  <svg xmlns=\"http://www.w3.org/2000/svg\" height=\"24px\"viewBox=\"0 0 24 24\"\n",
              "       width=\"24px\">\n",
              "    <path d=\"M0 0h24v24H0V0z\" fill=\"none\"/>\n",
              "    <path d=\"M18.56 5.44l.94 2.06.94-2.06 2.06-.94-2.06-.94-.94-2.06-.94 2.06-2.06.94zm-11 1L8.5 8.5l.94-2.06 2.06-.94-2.06-.94L8.5 2.5l-.94 2.06-2.06.94zm10 10l.94 2.06.94-2.06 2.06-.94-2.06-.94-.94-2.06-.94 2.06-2.06.94z\"/><path d=\"M17.41 7.96l-1.37-1.37c-.4-.4-.92-.59-1.43-.59-.52 0-1.04.2-1.43.59L10.3 9.45l-7.72 7.72c-.78.78-.78 2.05 0 2.83L4 21.41c.39.39.9.59 1.41.59.51 0 1.02-.2 1.41-.59l7.78-7.78 2.81-2.81c.8-.78.8-2.07 0-2.86zM5.41 20L4 18.59l7.72-7.72 1.47 1.35L5.41 20z\"/>\n",
              "  </svg>\n",
              "      </button>\n",
              "      \n",
              "  <style>\n",
              "    .colab-df-container {\n",
              "      display:flex;\n",
              "      flex-wrap:wrap;\n",
              "      gap: 12px;\n",
              "    }\n",
              "\n",
              "    .colab-df-convert {\n",
              "      background-color: #E8F0FE;\n",
              "      border: none;\n",
              "      border-radius: 50%;\n",
              "      cursor: pointer;\n",
              "      display: none;\n",
              "      fill: #1967D2;\n",
              "      height: 32px;\n",
              "      padding: 0 0 0 0;\n",
              "      width: 32px;\n",
              "    }\n",
              "\n",
              "    .colab-df-convert:hover {\n",
              "      background-color: #E2EBFA;\n",
              "      box-shadow: 0px 1px 2px rgba(60, 64, 67, 0.3), 0px 1px 3px 1px rgba(60, 64, 67, 0.15);\n",
              "      fill: #174EA6;\n",
              "    }\n",
              "\n",
              "    [theme=dark] .colab-df-convert {\n",
              "      background-color: #3B4455;\n",
              "      fill: #D2E3FC;\n",
              "    }\n",
              "\n",
              "    [theme=dark] .colab-df-convert:hover {\n",
              "      background-color: #434B5C;\n",
              "      box-shadow: 0px 1px 3px 1px rgba(0, 0, 0, 0.15);\n",
              "      filter: drop-shadow(0px 1px 2px rgba(0, 0, 0, 0.3));\n",
              "      fill: #FFFFFF;\n",
              "    }\n",
              "  </style>\n",
              "\n",
              "      <script>\n",
              "        const buttonEl =\n",
              "          document.querySelector('#df-c199ef41-83fe-403f-a428-7ec466eaa24c button.colab-df-convert');\n",
              "        buttonEl.style.display =\n",
              "          google.colab.kernel.accessAllowed ? 'block' : 'none';\n",
              "\n",
              "        async function convertToInteractive(key) {\n",
              "          const element = document.querySelector('#df-c199ef41-83fe-403f-a428-7ec466eaa24c');\n",
              "          const dataTable =\n",
              "            await google.colab.kernel.invokeFunction('convertToInteractive',\n",
              "                                                     [key], {});\n",
              "          if (!dataTable) return;\n",
              "\n",
              "          const docLinkHtml = 'Like what you see? Visit the ' +\n",
              "            '<a target=\"_blank\" href=https://colab.research.google.com/notebooks/data_table.ipynb>data table notebook</a>'\n",
              "            + ' to learn more about interactive tables.';\n",
              "          element.innerHTML = '';\n",
              "          dataTable['output_type'] = 'display_data';\n",
              "          await google.colab.output.renderOutput(dataTable, element);\n",
              "          const docLink = document.createElement('div');\n",
              "          docLink.innerHTML = docLinkHtml;\n",
              "          element.appendChild(docLink);\n",
              "        }\n",
              "      </script>\n",
              "    </div>\n",
              "  </div>\n",
              "  "
            ]
          },
          "metadata": {},
          "execution_count": 5
        }
      ],
      "source": [
        "df_adress['address_comp'] = df_adress[['address', 'city']].apply(', '.join, axis=1)\n",
        "df_adress.head()"
      ]
    },
    {
      "cell_type": "markdown",
      "metadata": {
        "id": "Ez4dizWb5Ywk"
      },
      "source": [
        "iloc: Indexation purement basée sur l'emplacement des nombres entiers pour la sélection par position"
      ]
    },
    {
      "cell_type": "code",
      "execution_count": 6,
      "metadata": {
        "colab": {
          "base_uri": "https://localhost:8080/"
        },
        "id": "ASCHly7017v9",
        "outputId": "5d69c7af-f5b5-4bb6-a302-4cb7406e1192"
      },
      "outputs": [
        {
          "output_type": "execute_result",
          "data": {
            "text/plain": [
              "address_comp    35 AV DU 159EME RIA, BRIANCON\n",
              "Name: 4, dtype: object"
            ]
          },
          "metadata": {},
          "execution_count": 6
        }
      ],
      "source": [
        "df_adress[['address_comp']].iloc[4]"
      ]
    },
    {
      "cell_type": "code",
      "execution_count": 7,
      "metadata": {
        "id": "yAwThj5T6deh"
      },
      "outputs": [],
      "source": [
        "df_adress['location'] = df_adress['city'].apply(lambda x:geocoder.geocode(x,timeout = 10000))"
      ]
    },
    {
      "cell_type": "code",
      "source": [
        "df_adress['longitude'] = df_adress['location'].apply(lambda x:x.longitude if x else None) \n",
        "df_adress['latitude'] = df_adress['location'].apply(lambda x:x.latitude if x else None)"
      ],
      "metadata": {
        "id": "_mkzSjJajzCV"
      },
      "execution_count": 8,
      "outputs": []
    },
    {
      "cell_type": "code",
      "execution_count": 9,
      "metadata": {
        "colab": {
          "base_uri": "https://localhost:8080/",
          "height": 363
        },
        "id": "nAqvKsVXAcg4",
        "outputId": "baacbde4-9fe2-4fc4-f6fa-bc0f6327fabc"
      },
      "outputs": [
        {
          "output_type": "execute_result",
          "data": {
            "text/plain": [
              "   address_id                   address                city  postal_code  \\\n",
              "0           1      318 CHE DE ROUMAGOUA           LA CIOTAT        13600   \n",
              "1           2          19 RUE DES DAMES       SAINTE SAVINE        10300   \n",
              "2           3   22 RUE AMIRAL GUEPRATTE          LE CONQUET        29217   \n",
              "3           4           6 BD DES ETINES           LE COTEAU        42120   \n",
              "4           5       35 AV DU 159EME RIA            BRIANCON         5100   \n",
              "5           6          36 RUE D EN HAUT           BRUNEMONT        59151   \n",
              "6           7      1625 RTE DE CHAMBERY        SAINT-ISMIER        38330   \n",
              "7           8         3 RUE MONTESQUIEU  ASNIERES-SUR-SEINE        92600   \n",
              "8           9      35 RUE PORTE ST JEAN             ORLEANS        45000   \n",
              "9          10  67 BD COMMANDANT CHARCOT   NEUILLY-SUR-SEINE        92200   \n",
              "\n",
              "                                  address_comp  \\\n",
              "0              318 CHE DE ROUMAGOUA, LA CIOTAT   \n",
              "1              19 RUE DES DAMES, SAINTE SAVINE   \n",
              "2          22 RUE AMIRAL GUEPRATTE, LE CONQUET   \n",
              "3                   6 BD DES ETINES, LE COTEAU   \n",
              "4                35 AV DU 159EME RIA, BRIANCON   \n",
              "5                  36 RUE D EN HAUT, BRUNEMONT   \n",
              "6           1625 RTE DE CHAMBERY, SAINT-ISMIER   \n",
              "7        3 RUE MONTESQUIEU, ASNIERES-SUR-SEINE   \n",
              "8                35 RUE PORTE ST JEAN, ORLEANS   \n",
              "9  67 BD COMMANDANT CHARCOT, NEUILLY-SUR-SEINE   \n",
              "\n",
              "                                            location  longitude   latitude  \n",
              "0  (La Ciotat, Marseille, Bouches-du-Rhône, Prove...   5.606249  43.175859  \n",
              "1  (Sainte-Savine, Troyes, Aube, Grand Est, Franc...   4.056536  48.293152  \n",
              "2  (Le Conquet, Brest, Finistère, Bretagne, Franc...  -4.770906  48.360529  \n",
              "3  (Le Coteau, Roanne, Loire, Auvergne-Rhône-Alpe...   4.092030  46.020500  \n",
              "4  (Briançon, Hautes-Alpes, Provence-Alpes-Côte d...   6.643631  44.898404  \n",
              "5  (Brunémont, Douai, Nord, Hauts-de-France, Fran...   3.141399  50.271708  \n",
              "6  (Saint-Ismier, Grenoble, Isère, Auvergne-Rhône...   5.826152  45.248168  \n",
              "7  (Asnières-sur-Seine, Arrondissement de Nanterr...   2.289045  48.910595  \n",
              "8  (Orléans, Loiret, Centre-Val de Loire, France ...   1.908607  47.902734  \n",
              "9  (Neuilly-sur-Seine, Arrondissement de Nanterre...   2.269566  48.884683  "
            ],
            "text/html": [
              "\n",
              "  <div id=\"df-67e4ba7d-7783-47d7-9fa0-c2cac768961c\">\n",
              "    <div class=\"colab-df-container\">\n",
              "      <div>\n",
              "<style scoped>\n",
              "    .dataframe tbody tr th:only-of-type {\n",
              "        vertical-align: middle;\n",
              "    }\n",
              "\n",
              "    .dataframe tbody tr th {\n",
              "        vertical-align: top;\n",
              "    }\n",
              "\n",
              "    .dataframe thead th {\n",
              "        text-align: right;\n",
              "    }\n",
              "</style>\n",
              "<table border=\"1\" class=\"dataframe\">\n",
              "  <thead>\n",
              "    <tr style=\"text-align: right;\">\n",
              "      <th></th>\n",
              "      <th>address_id</th>\n",
              "      <th>address</th>\n",
              "      <th>city</th>\n",
              "      <th>postal_code</th>\n",
              "      <th>address_comp</th>\n",
              "      <th>location</th>\n",
              "      <th>longitude</th>\n",
              "      <th>latitude</th>\n",
              "    </tr>\n",
              "  </thead>\n",
              "  <tbody>\n",
              "    <tr>\n",
              "      <th>0</th>\n",
              "      <td>1</td>\n",
              "      <td>318 CHE DE ROUMAGOUA</td>\n",
              "      <td>LA CIOTAT</td>\n",
              "      <td>13600</td>\n",
              "      <td>318 CHE DE ROUMAGOUA, LA CIOTAT</td>\n",
              "      <td>(La Ciotat, Marseille, Bouches-du-Rhône, Prove...</td>\n",
              "      <td>5.606249</td>\n",
              "      <td>43.175859</td>\n",
              "    </tr>\n",
              "    <tr>\n",
              "      <th>1</th>\n",
              "      <td>2</td>\n",
              "      <td>19 RUE DES DAMES</td>\n",
              "      <td>SAINTE SAVINE</td>\n",
              "      <td>10300</td>\n",
              "      <td>19 RUE DES DAMES, SAINTE SAVINE</td>\n",
              "      <td>(Sainte-Savine, Troyes, Aube, Grand Est, Franc...</td>\n",
              "      <td>4.056536</td>\n",
              "      <td>48.293152</td>\n",
              "    </tr>\n",
              "    <tr>\n",
              "      <th>2</th>\n",
              "      <td>3</td>\n",
              "      <td>22 RUE AMIRAL GUEPRATTE</td>\n",
              "      <td>LE CONQUET</td>\n",
              "      <td>29217</td>\n",
              "      <td>22 RUE AMIRAL GUEPRATTE, LE CONQUET</td>\n",
              "      <td>(Le Conquet, Brest, Finistère, Bretagne, Franc...</td>\n",
              "      <td>-4.770906</td>\n",
              "      <td>48.360529</td>\n",
              "    </tr>\n",
              "    <tr>\n",
              "      <th>3</th>\n",
              "      <td>4</td>\n",
              "      <td>6 BD DES ETINES</td>\n",
              "      <td>LE COTEAU</td>\n",
              "      <td>42120</td>\n",
              "      <td>6 BD DES ETINES, LE COTEAU</td>\n",
              "      <td>(Le Coteau, Roanne, Loire, Auvergne-Rhône-Alpe...</td>\n",
              "      <td>4.092030</td>\n",
              "      <td>46.020500</td>\n",
              "    </tr>\n",
              "    <tr>\n",
              "      <th>4</th>\n",
              "      <td>5</td>\n",
              "      <td>35 AV DU 159EME RIA</td>\n",
              "      <td>BRIANCON</td>\n",
              "      <td>5100</td>\n",
              "      <td>35 AV DU 159EME RIA, BRIANCON</td>\n",
              "      <td>(Briançon, Hautes-Alpes, Provence-Alpes-Côte d...</td>\n",
              "      <td>6.643631</td>\n",
              "      <td>44.898404</td>\n",
              "    </tr>\n",
              "    <tr>\n",
              "      <th>5</th>\n",
              "      <td>6</td>\n",
              "      <td>36 RUE D EN HAUT</td>\n",
              "      <td>BRUNEMONT</td>\n",
              "      <td>59151</td>\n",
              "      <td>36 RUE D EN HAUT, BRUNEMONT</td>\n",
              "      <td>(Brunémont, Douai, Nord, Hauts-de-France, Fran...</td>\n",
              "      <td>3.141399</td>\n",
              "      <td>50.271708</td>\n",
              "    </tr>\n",
              "    <tr>\n",
              "      <th>6</th>\n",
              "      <td>7</td>\n",
              "      <td>1625 RTE DE CHAMBERY</td>\n",
              "      <td>SAINT-ISMIER</td>\n",
              "      <td>38330</td>\n",
              "      <td>1625 RTE DE CHAMBERY, SAINT-ISMIER</td>\n",
              "      <td>(Saint-Ismier, Grenoble, Isère, Auvergne-Rhône...</td>\n",
              "      <td>5.826152</td>\n",
              "      <td>45.248168</td>\n",
              "    </tr>\n",
              "    <tr>\n",
              "      <th>7</th>\n",
              "      <td>8</td>\n",
              "      <td>3 RUE MONTESQUIEU</td>\n",
              "      <td>ASNIERES-SUR-SEINE</td>\n",
              "      <td>92600</td>\n",
              "      <td>3 RUE MONTESQUIEU, ASNIERES-SUR-SEINE</td>\n",
              "      <td>(Asnières-sur-Seine, Arrondissement de Nanterr...</td>\n",
              "      <td>2.289045</td>\n",
              "      <td>48.910595</td>\n",
              "    </tr>\n",
              "    <tr>\n",
              "      <th>8</th>\n",
              "      <td>9</td>\n",
              "      <td>35 RUE PORTE ST JEAN</td>\n",
              "      <td>ORLEANS</td>\n",
              "      <td>45000</td>\n",
              "      <td>35 RUE PORTE ST JEAN, ORLEANS</td>\n",
              "      <td>(Orléans, Loiret, Centre-Val de Loire, France ...</td>\n",
              "      <td>1.908607</td>\n",
              "      <td>47.902734</td>\n",
              "    </tr>\n",
              "    <tr>\n",
              "      <th>9</th>\n",
              "      <td>10</td>\n",
              "      <td>67 BD COMMANDANT CHARCOT</td>\n",
              "      <td>NEUILLY-SUR-SEINE</td>\n",
              "      <td>92200</td>\n",
              "      <td>67 BD COMMANDANT CHARCOT, NEUILLY-SUR-SEINE</td>\n",
              "      <td>(Neuilly-sur-Seine, Arrondissement de Nanterre...</td>\n",
              "      <td>2.269566</td>\n",
              "      <td>48.884683</td>\n",
              "    </tr>\n",
              "  </tbody>\n",
              "</table>\n",
              "</div>\n",
              "      <button class=\"colab-df-convert\" onclick=\"convertToInteractive('df-67e4ba7d-7783-47d7-9fa0-c2cac768961c')\"\n",
              "              title=\"Convert this dataframe to an interactive table.\"\n",
              "              style=\"display:none;\">\n",
              "        \n",
              "  <svg xmlns=\"http://www.w3.org/2000/svg\" height=\"24px\"viewBox=\"0 0 24 24\"\n",
              "       width=\"24px\">\n",
              "    <path d=\"M0 0h24v24H0V0z\" fill=\"none\"/>\n",
              "    <path d=\"M18.56 5.44l.94 2.06.94-2.06 2.06-.94-2.06-.94-.94-2.06-.94 2.06-2.06.94zm-11 1L8.5 8.5l.94-2.06 2.06-.94-2.06-.94L8.5 2.5l-.94 2.06-2.06.94zm10 10l.94 2.06.94-2.06 2.06-.94-2.06-.94-.94-2.06-.94 2.06-2.06.94z\"/><path d=\"M17.41 7.96l-1.37-1.37c-.4-.4-.92-.59-1.43-.59-.52 0-1.04.2-1.43.59L10.3 9.45l-7.72 7.72c-.78.78-.78 2.05 0 2.83L4 21.41c.39.39.9.59 1.41.59.51 0 1.02-.2 1.41-.59l7.78-7.78 2.81-2.81c.8-.78.8-2.07 0-2.86zM5.41 20L4 18.59l7.72-7.72 1.47 1.35L5.41 20z\"/>\n",
              "  </svg>\n",
              "      </button>\n",
              "      \n",
              "  <style>\n",
              "    .colab-df-container {\n",
              "      display:flex;\n",
              "      flex-wrap:wrap;\n",
              "      gap: 12px;\n",
              "    }\n",
              "\n",
              "    .colab-df-convert {\n",
              "      background-color: #E8F0FE;\n",
              "      border: none;\n",
              "      border-radius: 50%;\n",
              "      cursor: pointer;\n",
              "      display: none;\n",
              "      fill: #1967D2;\n",
              "      height: 32px;\n",
              "      padding: 0 0 0 0;\n",
              "      width: 32px;\n",
              "    }\n",
              "\n",
              "    .colab-df-convert:hover {\n",
              "      background-color: #E2EBFA;\n",
              "      box-shadow: 0px 1px 2px rgba(60, 64, 67, 0.3), 0px 1px 3px 1px rgba(60, 64, 67, 0.15);\n",
              "      fill: #174EA6;\n",
              "    }\n",
              "\n",
              "    [theme=dark] .colab-df-convert {\n",
              "      background-color: #3B4455;\n",
              "      fill: #D2E3FC;\n",
              "    }\n",
              "\n",
              "    [theme=dark] .colab-df-convert:hover {\n",
              "      background-color: #434B5C;\n",
              "      box-shadow: 0px 1px 3px 1px rgba(0, 0, 0, 0.15);\n",
              "      filter: drop-shadow(0px 1px 2px rgba(0, 0, 0, 0.3));\n",
              "      fill: #FFFFFF;\n",
              "    }\n",
              "  </style>\n",
              "\n",
              "      <script>\n",
              "        const buttonEl =\n",
              "          document.querySelector('#df-67e4ba7d-7783-47d7-9fa0-c2cac768961c button.colab-df-convert');\n",
              "        buttonEl.style.display =\n",
              "          google.colab.kernel.accessAllowed ? 'block' : 'none';\n",
              "\n",
              "        async function convertToInteractive(key) {\n",
              "          const element = document.querySelector('#df-67e4ba7d-7783-47d7-9fa0-c2cac768961c');\n",
              "          const dataTable =\n",
              "            await google.colab.kernel.invokeFunction('convertToInteractive',\n",
              "                                                     [key], {});\n",
              "          if (!dataTable) return;\n",
              "\n",
              "          const docLinkHtml = 'Like what you see? Visit the ' +\n",
              "            '<a target=\"_blank\" href=https://colab.research.google.com/notebooks/data_table.ipynb>data table notebook</a>'\n",
              "            + ' to learn more about interactive tables.';\n",
              "          element.innerHTML = '';\n",
              "          dataTable['output_type'] = 'display_data';\n",
              "          await google.colab.output.renderOutput(dataTable, element);\n",
              "          const docLink = document.createElement('div');\n",
              "          docLink.innerHTML = docLinkHtml;\n",
              "          element.appendChild(docLink);\n",
              "        }\n",
              "      </script>\n",
              "    </div>\n",
              "  </div>\n",
              "  "
            ]
          },
          "metadata": {},
          "execution_count": 9
        }
      ],
      "source": [
        "df_adress.head(10)"
      ]
    },
    {
      "cell_type": "markdown",
      "metadata": {
        "id": "2Uwzqvtq-XK5"
      },
      "source": [
        "On determine le nombre d'adresses isnull (qui ne renvoient pas de coordonnées long. lat.) "
      ]
    },
    {
      "cell_type": "code",
      "execution_count": null,
      "metadata": {
        "id": "O9KXmQo8A2Iu"
      },
      "outputs": [],
      "source": [
        "# df_adress['location'].isnull().sum()"
      ]
    },
    {
      "cell_type": "markdown",
      "metadata": {
        "id": "9VEANR9G-5Xn"
      },
      "source": [
        "On stocke les adresses isnull dans une nouvelle table df_nan et on les affiche"
      ]
    },
    {
      "cell_type": "code",
      "execution_count": null,
      "metadata": {
        "id": "u4oPfq1qBdtq"
      },
      "outputs": [],
      "source": [
        "# df_nan = df_adress[df_adress['location'].isnull()]\n",
        "# df_nan.head()"
      ]
    },
    {
      "cell_type": "markdown",
      "metadata": {
        "id": "KERAomuD_PGT"
      },
      "source": [
        "On attribut une nouvelle valeur aux colonnes location, longitude et latitude."
      ]
    },
    {
      "cell_type": "code",
      "execution_count": 12,
      "metadata": {
        "id": "_zlKdIKdD1s5"
      },
      "outputs": [],
      "source": [
        "# df_nan['location'] = df_nan['city'].apply(lambda x:geocoder.geocode(x,timeout = 10))\n",
        "# df_nan['longitude'] = df_nan['location'].apply(lambda x:x.longitude if x else None) \n",
        "# df_nan['latitude'] = df_nan['location'].apply(lambda x:x.latitude if x else None)"
      ]
    },
    {
      "cell_type": "code",
      "execution_count": null,
      "metadata": {
        "id": "id8jK4qMFIN_"
      },
      "outputs": [],
      "source": [
        "# df_nan.head()"
      ]
    },
    {
      "cell_type": "code",
      "execution_count": null,
      "metadata": {
        "id": "7q6kam8ECQZ-"
      },
      "outputs": [],
      "source": [
        "# df_nan['location'].isnull().sum()"
      ]
    },
    {
      "cell_type": "markdown",
      "source": [
        "Affiche le type de données"
      ],
      "metadata": {
        "id": "_cEac0etvWJg"
      }
    },
    {
      "cell_type": "code",
      "source": [
        "df_adress.dtypes"
      ],
      "metadata": {
        "colab": {
          "base_uri": "https://localhost:8080/"
        },
        "id": "pRVLGOkLvElo",
        "outputId": "623837fd-83b6-42bf-bcba-8d0e5cf2e6dd"
      },
      "execution_count": 16,
      "outputs": [
        {
          "output_type": "execute_result",
          "data": {
            "text/plain": [
              "address_id        int64\n",
              "address          object\n",
              "city             object\n",
              "postal_code       int64\n",
              "address_comp     object\n",
              "location         object\n",
              "longitude       float64\n",
              "latitude        float64\n",
              "dtype: object"
            ]
          },
          "metadata": {},
          "execution_count": 16
        }
      ]
    },
    {
      "cell_type": "markdown",
      "source": [
        "On supprime les colonnes dont on a plus besoin"
      ],
      "metadata": {
        "id": "YqhlHaF2wT3V"
      }
    },
    {
      "cell_type": "code",
      "source": [
        "df_update = df_adress.drop([\"address_comp\", \"location\"], axis=1)"
      ],
      "metadata": {
        "id": "JguYSnIAvgNm"
      },
      "execution_count": 21,
      "outputs": []
    },
    {
      "cell_type": "code",
      "source": [
        "df_update"
      ],
      "metadata": {
        "colab": {
          "base_uri": "https://localhost:8080/",
          "height": 423
        },
        "id": "VSyfxx8D4ZAT",
        "outputId": "49d2f8c3-db20-445a-d446-c4234894e122"
      },
      "execution_count": 22,
      "outputs": [
        {
          "output_type": "execute_result",
          "data": {
            "text/plain": [
              "     address_id                  address                  city  postal_code  \\\n",
              "0             1     318 CHE DE ROUMAGOUA             LA CIOTAT        13600   \n",
              "1             2         19 RUE DES DAMES         SAINTE SAVINE        10300   \n",
              "2             3  22 RUE AMIRAL GUEPRATTE            LE CONQUET        29217   \n",
              "3             4          6 BD DES ETINES             LE COTEAU        42120   \n",
              "4             5      35 AV DU 159EME RIA              BRIANCON         5100   \n",
              "..          ...                      ...                   ...          ...   \n",
              "557         601              20 RUE COLI             MONTREUIL        93100   \n",
              "558         602         6 AV JEAN JAURES                 FEURS        42110   \n",
              "559         603     1 RUE HENRI RENAUDIN  CHARLEVILLE-MEZIERES         8000   \n",
              "560         604            2 RUE DE LYON      EPINAY SUR SEINE        93800   \n",
              "561         605        4 RUE DENIS PAPIN                 BLAIN        44130   \n",
              "\n",
              "     longitude   latitude  \n",
              "0     5.606249  43.175859  \n",
              "1     4.056536  48.293152  \n",
              "2    -4.770906  48.360529  \n",
              "3     4.092030  46.020500  \n",
              "4     6.643631  44.898404  \n",
              "..         ...        ...  \n",
              "557   1.763113  50.463892  \n",
              "558   4.221512  45.744074  \n",
              "559   4.720694  49.773571  \n",
              "560   2.314504  48.952518  \n",
              "561  -1.764365  47.475554  \n",
              "\n",
              "[562 rows x 6 columns]"
            ],
            "text/html": [
              "\n",
              "  <div id=\"df-38261497-2764-4f67-9123-d2300c8e2e3e\">\n",
              "    <div class=\"colab-df-container\">\n",
              "      <div>\n",
              "<style scoped>\n",
              "    .dataframe tbody tr th:only-of-type {\n",
              "        vertical-align: middle;\n",
              "    }\n",
              "\n",
              "    .dataframe tbody tr th {\n",
              "        vertical-align: top;\n",
              "    }\n",
              "\n",
              "    .dataframe thead th {\n",
              "        text-align: right;\n",
              "    }\n",
              "</style>\n",
              "<table border=\"1\" class=\"dataframe\">\n",
              "  <thead>\n",
              "    <tr style=\"text-align: right;\">\n",
              "      <th></th>\n",
              "      <th>address_id</th>\n",
              "      <th>address</th>\n",
              "      <th>city</th>\n",
              "      <th>postal_code</th>\n",
              "      <th>longitude</th>\n",
              "      <th>latitude</th>\n",
              "    </tr>\n",
              "  </thead>\n",
              "  <tbody>\n",
              "    <tr>\n",
              "      <th>0</th>\n",
              "      <td>1</td>\n",
              "      <td>318 CHE DE ROUMAGOUA</td>\n",
              "      <td>LA CIOTAT</td>\n",
              "      <td>13600</td>\n",
              "      <td>5.606249</td>\n",
              "      <td>43.175859</td>\n",
              "    </tr>\n",
              "    <tr>\n",
              "      <th>1</th>\n",
              "      <td>2</td>\n",
              "      <td>19 RUE DES DAMES</td>\n",
              "      <td>SAINTE SAVINE</td>\n",
              "      <td>10300</td>\n",
              "      <td>4.056536</td>\n",
              "      <td>48.293152</td>\n",
              "    </tr>\n",
              "    <tr>\n",
              "      <th>2</th>\n",
              "      <td>3</td>\n",
              "      <td>22 RUE AMIRAL GUEPRATTE</td>\n",
              "      <td>LE CONQUET</td>\n",
              "      <td>29217</td>\n",
              "      <td>-4.770906</td>\n",
              "      <td>48.360529</td>\n",
              "    </tr>\n",
              "    <tr>\n",
              "      <th>3</th>\n",
              "      <td>4</td>\n",
              "      <td>6 BD DES ETINES</td>\n",
              "      <td>LE COTEAU</td>\n",
              "      <td>42120</td>\n",
              "      <td>4.092030</td>\n",
              "      <td>46.020500</td>\n",
              "    </tr>\n",
              "    <tr>\n",
              "      <th>4</th>\n",
              "      <td>5</td>\n",
              "      <td>35 AV DU 159EME RIA</td>\n",
              "      <td>BRIANCON</td>\n",
              "      <td>5100</td>\n",
              "      <td>6.643631</td>\n",
              "      <td>44.898404</td>\n",
              "    </tr>\n",
              "    <tr>\n",
              "      <th>...</th>\n",
              "      <td>...</td>\n",
              "      <td>...</td>\n",
              "      <td>...</td>\n",
              "      <td>...</td>\n",
              "      <td>...</td>\n",
              "      <td>...</td>\n",
              "    </tr>\n",
              "    <tr>\n",
              "      <th>557</th>\n",
              "      <td>601</td>\n",
              "      <td>20 RUE COLI</td>\n",
              "      <td>MONTREUIL</td>\n",
              "      <td>93100</td>\n",
              "      <td>1.763113</td>\n",
              "      <td>50.463892</td>\n",
              "    </tr>\n",
              "    <tr>\n",
              "      <th>558</th>\n",
              "      <td>602</td>\n",
              "      <td>6 AV JEAN JAURES</td>\n",
              "      <td>FEURS</td>\n",
              "      <td>42110</td>\n",
              "      <td>4.221512</td>\n",
              "      <td>45.744074</td>\n",
              "    </tr>\n",
              "    <tr>\n",
              "      <th>559</th>\n",
              "      <td>603</td>\n",
              "      <td>1 RUE HENRI RENAUDIN</td>\n",
              "      <td>CHARLEVILLE-MEZIERES</td>\n",
              "      <td>8000</td>\n",
              "      <td>4.720694</td>\n",
              "      <td>49.773571</td>\n",
              "    </tr>\n",
              "    <tr>\n",
              "      <th>560</th>\n",
              "      <td>604</td>\n",
              "      <td>2 RUE DE LYON</td>\n",
              "      <td>EPINAY SUR SEINE</td>\n",
              "      <td>93800</td>\n",
              "      <td>2.314504</td>\n",
              "      <td>48.952518</td>\n",
              "    </tr>\n",
              "    <tr>\n",
              "      <th>561</th>\n",
              "      <td>605</td>\n",
              "      <td>4 RUE DENIS PAPIN</td>\n",
              "      <td>BLAIN</td>\n",
              "      <td>44130</td>\n",
              "      <td>-1.764365</td>\n",
              "      <td>47.475554</td>\n",
              "    </tr>\n",
              "  </tbody>\n",
              "</table>\n",
              "<p>562 rows × 6 columns</p>\n",
              "</div>\n",
              "      <button class=\"colab-df-convert\" onclick=\"convertToInteractive('df-38261497-2764-4f67-9123-d2300c8e2e3e')\"\n",
              "              title=\"Convert this dataframe to an interactive table.\"\n",
              "              style=\"display:none;\">\n",
              "        \n",
              "  <svg xmlns=\"http://www.w3.org/2000/svg\" height=\"24px\"viewBox=\"0 0 24 24\"\n",
              "       width=\"24px\">\n",
              "    <path d=\"M0 0h24v24H0V0z\" fill=\"none\"/>\n",
              "    <path d=\"M18.56 5.44l.94 2.06.94-2.06 2.06-.94-2.06-.94-.94-2.06-.94 2.06-2.06.94zm-11 1L8.5 8.5l.94-2.06 2.06-.94-2.06-.94L8.5 2.5l-.94 2.06-2.06.94zm10 10l.94 2.06.94-2.06 2.06-.94-2.06-.94-.94-2.06-.94 2.06-2.06.94z\"/><path d=\"M17.41 7.96l-1.37-1.37c-.4-.4-.92-.59-1.43-.59-.52 0-1.04.2-1.43.59L10.3 9.45l-7.72 7.72c-.78.78-.78 2.05 0 2.83L4 21.41c.39.39.9.59 1.41.59.51 0 1.02-.2 1.41-.59l7.78-7.78 2.81-2.81c.8-.78.8-2.07 0-2.86zM5.41 20L4 18.59l7.72-7.72 1.47 1.35L5.41 20z\"/>\n",
              "  </svg>\n",
              "      </button>\n",
              "      \n",
              "  <style>\n",
              "    .colab-df-container {\n",
              "      display:flex;\n",
              "      flex-wrap:wrap;\n",
              "      gap: 12px;\n",
              "    }\n",
              "\n",
              "    .colab-df-convert {\n",
              "      background-color: #E8F0FE;\n",
              "      border: none;\n",
              "      border-radius: 50%;\n",
              "      cursor: pointer;\n",
              "      display: none;\n",
              "      fill: #1967D2;\n",
              "      height: 32px;\n",
              "      padding: 0 0 0 0;\n",
              "      width: 32px;\n",
              "    }\n",
              "\n",
              "    .colab-df-convert:hover {\n",
              "      background-color: #E2EBFA;\n",
              "      box-shadow: 0px 1px 2px rgba(60, 64, 67, 0.3), 0px 1px 3px 1px rgba(60, 64, 67, 0.15);\n",
              "      fill: #174EA6;\n",
              "    }\n",
              "\n",
              "    [theme=dark] .colab-df-convert {\n",
              "      background-color: #3B4455;\n",
              "      fill: #D2E3FC;\n",
              "    }\n",
              "\n",
              "    [theme=dark] .colab-df-convert:hover {\n",
              "      background-color: #434B5C;\n",
              "      box-shadow: 0px 1px 3px 1px rgba(0, 0, 0, 0.15);\n",
              "      filter: drop-shadow(0px 1px 2px rgba(0, 0, 0, 0.3));\n",
              "      fill: #FFFFFF;\n",
              "    }\n",
              "  </style>\n",
              "\n",
              "      <script>\n",
              "        const buttonEl =\n",
              "          document.querySelector('#df-38261497-2764-4f67-9123-d2300c8e2e3e button.colab-df-convert');\n",
              "        buttonEl.style.display =\n",
              "          google.colab.kernel.accessAllowed ? 'block' : 'none';\n",
              "\n",
              "        async function convertToInteractive(key) {\n",
              "          const element = document.querySelector('#df-38261497-2764-4f67-9123-d2300c8e2e3e');\n",
              "          const dataTable =\n",
              "            await google.colab.kernel.invokeFunction('convertToInteractive',\n",
              "                                                     [key], {});\n",
              "          if (!dataTable) return;\n",
              "\n",
              "          const docLinkHtml = 'Like what you see? Visit the ' +\n",
              "            '<a target=\"_blank\" href=https://colab.research.google.com/notebooks/data_table.ipynb>data table notebook</a>'\n",
              "            + ' to learn more about interactive tables.';\n",
              "          element.innerHTML = '';\n",
              "          dataTable['output_type'] = 'display_data';\n",
              "          await google.colab.output.renderOutput(dataTable, element);\n",
              "          const docLink = document.createElement('div');\n",
              "          docLink.innerHTML = docLinkHtml;\n",
              "          element.appendChild(docLink);\n",
              "        }\n",
              "      </script>\n",
              "    </div>\n",
              "  </div>\n",
              "  "
            ]
          },
          "metadata": {},
          "execution_count": 22
        }
      ]
    },
    {
      "cell_type": "markdown",
      "source": [
        "On convertit le fichier pour l'exporter"
      ],
      "metadata": {
        "id": "7l-Zm1kmxUeI"
      }
    },
    {
      "cell_type": "code",
      "source": [
        "from google.colab import files\n",
        "df_update.to_csv('df_updateAdress.csv', index = False) \n",
        "files.download(\"df_updateAdress.csv\")"
      ],
      "metadata": {
        "colab": {
          "base_uri": "https://localhost:8080/",
          "height": 17
        },
        "id": "cIGCSIKiwruw",
        "outputId": "066141ce-c2c2-4f30-d5b6-33ad85f3d494"
      },
      "execution_count": 26,
      "outputs": [
        {
          "output_type": "display_data",
          "data": {
            "text/plain": [
              "<IPython.core.display.Javascript object>"
            ],
            "application/javascript": [
              "\n",
              "    async function download(id, filename, size) {\n",
              "      if (!google.colab.kernel.accessAllowed) {\n",
              "        return;\n",
              "      }\n",
              "      const div = document.createElement('div');\n",
              "      const label = document.createElement('label');\n",
              "      label.textContent = `Downloading \"${filename}\": `;\n",
              "      div.appendChild(label);\n",
              "      const progress = document.createElement('progress');\n",
              "      progress.max = size;\n",
              "      div.appendChild(progress);\n",
              "      document.body.appendChild(div);\n",
              "\n",
              "      const buffers = [];\n",
              "      let downloaded = 0;\n",
              "\n",
              "      const channel = await google.colab.kernel.comms.open(id);\n",
              "      // Send a message to notify the kernel that we're ready.\n",
              "      channel.send({})\n",
              "\n",
              "      for await (const message of channel.messages) {\n",
              "        // Send a message to notify the kernel that we're ready.\n",
              "        channel.send({})\n",
              "        if (message.buffers) {\n",
              "          for (const buffer of message.buffers) {\n",
              "            buffers.push(buffer);\n",
              "            downloaded += buffer.byteLength;\n",
              "            progress.value = downloaded;\n",
              "          }\n",
              "        }\n",
              "      }\n",
              "      const blob = new Blob(buffers, {type: 'application/binary'});\n",
              "      const a = document.createElement('a');\n",
              "      a.href = window.URL.createObjectURL(blob);\n",
              "      a.download = filename;\n",
              "      div.appendChild(a);\n",
              "      a.click();\n",
              "      div.remove();\n",
              "    }\n",
              "  "
            ]
          },
          "metadata": {}
        },
        {
          "output_type": "display_data",
          "data": {
            "text/plain": [
              "<IPython.core.display.Javascript object>"
            ],
            "application/javascript": [
              "download(\"download_65f6136f-2a87-4bce-ab7e-8a6caf4754a2\", \"df_updateAdress.csv\", 34974)"
            ]
          },
          "metadata": {}
        }
      ]
    }
  ],
  "metadata": {
    "colab": {
      "provenance": [],
      "mount_file_id": "1oR1Bo6LebiPfYBCXoRwa_jJQMEUKpbzm",
      "authorship_tag": "ABX9TyMMe4a0ky5cicMxPgiHD3B/",
      "include_colab_link": true
    },
    "kernelspec": {
      "display_name": "Python 3",
      "name": "python3"
    },
    "language_info": {
      "name": "python"
    }
  },
  "nbformat": 4,
  "nbformat_minor": 0
}